{
 "cells": [
  {
   "cell_type": "code",
   "execution_count": 1,
   "metadata": {},
   "outputs": [
    {
     "name": "stderr",
     "output_type": "stream",
     "text": [
      "Warning message:\n",
      "\"package 'dplyr' was built under R version 3.6.2\"\n",
      "Attaching package: 'dplyr'\n",
      "\n",
      "The following objects are masked from 'package:stats':\n",
      "\n",
      "    filter, lag\n",
      "\n",
      "The following objects are masked from 'package:base':\n",
      "\n",
      "    intersect, setdiff, setequal, union\n",
      "\n",
      "Warning message:\n",
      "\"package 'tidyverse' was built under R version 3.6.2\"-- Attaching packages --------------------------------------- tidyverse 1.3.0 --\n",
      "v ggplot2 3.2.1     v purrr   0.3.3\n",
      "v tibble  2.1.3     v stringr 1.4.0\n",
      "v tidyr   1.0.0     v forcats 0.4.0\n",
      "v readr   1.3.1     \n",
      "Warning message:\n",
      "\"package 'ggplot2' was built under R version 3.6.2\"Warning message:\n",
      "\"package 'tibble' was built under R version 3.6.2\"Warning message:\n",
      "\"package 'tidyr' was built under R version 3.6.2\"Warning message:\n",
      "\"package 'purrr' was built under R version 3.6.2\"-- Conflicts ------------------------------------------ tidyverse_conflicts() --\n",
      "x dplyr::filter() masks stats::filter()\n",
      "x dplyr::lag()    masks stats::lag()\n",
      "Warning message:\n",
      "\"package 'readxl' was built under R version 3.6.2\"Warning message:\n",
      "\"package 'plm' was built under R version 3.6.2\"\n",
      "Attaching package: 'plm'\n",
      "\n",
      "The following objects are masked from 'package:dplyr':\n",
      "\n",
      "    between, lag, lead\n",
      "\n",
      "Warning message:\n",
      "\"package 'dlm' was built under R version 3.6.2\"\n",
      "Attaching package: 'dlm'\n",
      "\n",
      "The following object is masked from 'package:ggplot2':\n",
      "\n",
      "    %+%\n",
      "\n",
      "\n",
      "Attaching package: 'zoo'\n",
      "\n",
      "The following objects are masked from 'package:base':\n",
      "\n",
      "    as.Date, as.Date.numeric\n",
      "\n"
     ]
    }
   ],
   "source": [
    "library(\"dplyr\")\n",
    "library(tidyverse)\n",
    "library(readxl)\n",
    "library(plm)\n",
    "library(dlm)\n",
    "library(ggplot2)\n",
    "library(zoo)\n",
    "library(lattice)"
   ]
  },
  {
   "cell_type": "code",
   "execution_count": 2,
   "metadata": {},
   "outputs": [
    {
     "name": "stderr",
     "output_type": "stream",
     "text": [
      "Parsed with column specification:\n",
      "cols(\n",
      "  Date = col_character(),\n",
      "  Open = col_double(),\n",
      "  High = col_double(),\n",
      "  Low = col_double(),\n",
      "  Close = col_double(),\n",
      "  `Adj Close` = col_double(),\n",
      "  Volume = col_double()\n",
      ")\n"
     ]
    },
    {
     "name": "stdout",
     "output_type": "stream",
     "text": [
      "Observations: 8,569\n",
      "Variables: 7\n",
      "$ Date        <chr> \"12/31/1985\", \"1/2/1986\", \"1/3/1986\", \"1/6/1986\", \"1/7/...\n",
      "$ Open        <dbl> 9.12500, 9.15625, 9.00000, 9.06250, 9.18750, 9.40625, 9...\n",
      "$ High        <dbl> 9.25000, 9.18750, 9.09375, 9.21875, 9.43750, 9.43750, 9...\n",
      "$ Low         <dbl> 9.06250, 8.90625, 8.96875, 9.03125, 9.18750, 9.15625, 8...\n",
      "$ Close       <dbl> 9.12500, 9.00000, 9.06250, 9.15625, 9.40625, 9.25000, 9...\n",
      "$ `Adj Close` <dbl> 1.371067, 1.352285, 1.361677, 1.375763, 1.413326, 1.389...\n",
      "$ Volume      <dbl> 3067600, 1694000, 1395200, 2134000, 3030400, 4520000, 3...\n"
     ]
    },
    {
     "data": {
      "text/html": [
       "<table>\n",
       "<thead><tr><th scope=col>Date</th><th scope=col>Open</th><th scope=col>High</th><th scope=col>Low</th><th scope=col>Close</th><th scope=col>Adj Close</th><th scope=col>Volume</th></tr></thead>\n",
       "<tbody>\n",
       "\t<tr><td>12/31/1985</td><td>9.12500   </td><td>9.25000   </td><td>9.06250   </td><td>9.12500   </td><td>1.371067  </td><td>3067600   </td></tr>\n",
       "\t<tr><td>1/2/1986  </td><td>9.15625   </td><td>9.18750   </td><td>8.90625   </td><td>9.00000   </td><td>1.352285  </td><td>1694000   </td></tr>\n",
       "\t<tr><td>1/3/1986  </td><td>9.00000   </td><td>9.09375   </td><td>8.96875   </td><td>9.06250   </td><td>1.361677  </td><td>1395200   </td></tr>\n",
       "\t<tr><td>1/6/1986  </td><td>9.06250   </td><td>9.21875   </td><td>9.03125   </td><td>9.15625   </td><td>1.375763  </td><td>2134000   </td></tr>\n",
       "\t<tr><td>1/7/1986  </td><td>9.18750   </td><td>9.43750   </td><td>9.18750   </td><td>9.40625   </td><td>1.413326  </td><td>3030400   </td></tr>\n",
       "\t<tr><td>1/8/1986  </td><td>9.40625   </td><td>9.43750   </td><td>9.15625   </td><td>9.25000   </td><td>1.389849  </td><td>4520000   </td></tr>\n",
       "</tbody>\n",
       "</table>\n"
      ],
      "text/latex": [
       "\\begin{tabular}{r|lllllll}\n",
       " Date & Open & High & Low & Close & Adj Close & Volume\\\\\n",
       "\\hline\n",
       "\t 12/31/1985 & 9.12500    & 9.25000    & 9.06250    & 9.12500    & 1.371067   & 3067600   \\\\\n",
       "\t 1/2/1986   & 9.15625    & 9.18750    & 8.90625    & 9.00000    & 1.352285   & 1694000   \\\\\n",
       "\t 1/3/1986   & 9.00000    & 9.09375    & 8.96875    & 9.06250    & 1.361677   & 1395200   \\\\\n",
       "\t 1/6/1986   & 9.06250    & 9.21875    & 9.03125    & 9.15625    & 1.375763   & 2134000   \\\\\n",
       "\t 1/7/1986   & 9.18750    & 9.43750    & 9.18750    & 9.40625    & 1.413326   & 3030400   \\\\\n",
       "\t 1/8/1986   & 9.40625    & 9.43750    & 9.15625    & 9.25000    & 1.389849   & 4520000   \\\\\n",
       "\\end{tabular}\n"
      ],
      "text/markdown": [
       "\n",
       "| Date | Open | High | Low | Close | Adj Close | Volume |\n",
       "|---|---|---|---|---|---|---|\n",
       "| 12/31/1985 | 9.12500    | 9.25000    | 9.06250    | 9.12500    | 1.371067   | 3067600    |\n",
       "| 1/2/1986   | 9.15625    | 9.18750    | 8.90625    | 9.00000    | 1.352285   | 1694000    |\n",
       "| 1/3/1986   | 9.00000    | 9.09375    | 8.96875    | 9.06250    | 1.361677   | 1395200    |\n",
       "| 1/6/1986   | 9.06250    | 9.21875    | 9.03125    | 9.15625    | 1.375763   | 2134000    |\n",
       "| 1/7/1986   | 9.18750    | 9.43750    | 9.18750    | 9.40625    | 1.413326   | 3030400    |\n",
       "| 1/8/1986   | 9.40625    | 9.43750    | 9.15625    | 9.25000    | 1.389849   | 4520000    |\n",
       "\n"
      ],
      "text/plain": [
       "  Date       Open    High    Low     Close   Adj Close Volume \n",
       "1 12/31/1985 9.12500 9.25000 9.06250 9.12500 1.371067  3067600\n",
       "2 1/2/1986   9.15625 9.18750 8.90625 9.00000 1.352285  1694000\n",
       "3 1/3/1986   9.00000 9.09375 8.96875 9.06250 1.361677  1395200\n",
       "4 1/6/1986   9.06250 9.21875 9.03125 9.15625 1.375763  2134000\n",
       "5 1/7/1986   9.18750 9.43750 9.18750 9.40625 1.413326  3030400\n",
       "6 1/8/1986   9.40625 9.43750 9.15625 9.25000 1.389849  4520000"
      ]
     },
     "metadata": {},
     "output_type": "display_data"
    },
    {
     "data": {
      "text/html": [
       "<table>\n",
       "<thead><tr><th scope=col>Date</th><th scope=col>Open</th><th scope=col>High</th><th scope=col>Low</th><th scope=col>Close</th><th scope=col>Adj Close</th><th scope=col>Volume</th></tr></thead>\n",
       "<tbody>\n",
       "\t<tr><td>12/19/2019</td><td>39.59     </td><td>39.83     </td><td>39.48     </td><td>39.61     </td><td>39.61     </td><td> 7048600  </td></tr>\n",
       "\t<tr><td>12/20/2019</td><td>39.93     </td><td>39.97     </td><td>39.18     </td><td>39.43     </td><td>39.43     </td><td>13465800  </td></tr>\n",
       "\t<tr><td>12/23/2019</td><td>39.44     </td><td>40.89     </td><td>39.43     </td><td>40.79     </td><td>40.79     </td><td> 9911300  </td></tr>\n",
       "\t<tr><td>12/24/2019</td><td>40.74     </td><td>40.93     </td><td>40.35     </td><td>40.65     </td><td>40.65     </td><td> 3860400  </td></tr>\n",
       "\t<tr><td>12/26/2019</td><td>40.86     </td><td>40.88     </td><td>39.93     </td><td>40.07     </td><td>40.07     </td><td> 7629700  </td></tr>\n",
       "\t<tr><td>12/27/2019</td><td>40.13     </td><td>40.38     </td><td>39.83     </td><td>40.00     </td><td>40.00     </td><td> 6769100  </td></tr>\n",
       "</tbody>\n",
       "</table>\n"
      ],
      "text/latex": [
       "\\begin{tabular}{r|lllllll}\n",
       " Date & Open & High & Low & Close & Adj Close & Volume\\\\\n",
       "\\hline\n",
       "\t 12/19/2019 & 39.59      & 39.83      & 39.48      & 39.61      & 39.61      &  7048600  \\\\\n",
       "\t 12/20/2019 & 39.93      & 39.97      & 39.18      & 39.43      & 39.43      & 13465800  \\\\\n",
       "\t 12/23/2019 & 39.44      & 40.89      & 39.43      & 40.79      & 40.79      &  9911300  \\\\\n",
       "\t 12/24/2019 & 40.74      & 40.93      & 40.35      & 40.65      & 40.65      &  3860400  \\\\\n",
       "\t 12/26/2019 & 40.86      & 40.88      & 39.93      & 40.07      & 40.07      &  7629700  \\\\\n",
       "\t 12/27/2019 & 40.13      & 40.38      & 39.83      & 40.00      & 40.00      &  6769100  \\\\\n",
       "\\end{tabular}\n"
      ],
      "text/markdown": [
       "\n",
       "| Date | Open | High | Low | Close | Adj Close | Volume |\n",
       "|---|---|---|---|---|---|---|\n",
       "| 12/19/2019 | 39.59      | 39.83      | 39.48      | 39.61      | 39.61      |  7048600   |\n",
       "| 12/20/2019 | 39.93      | 39.97      | 39.18      | 39.43      | 39.43      | 13465800   |\n",
       "| 12/23/2019 | 39.44      | 40.89      | 39.43      | 40.79      | 40.79      |  9911300   |\n",
       "| 12/24/2019 | 40.74      | 40.93      | 40.35      | 40.65      | 40.65      |  3860400   |\n",
       "| 12/26/2019 | 40.86      | 40.88      | 39.93      | 40.07      | 40.07      |  7629700   |\n",
       "| 12/27/2019 | 40.13      | 40.38      | 39.83      | 40.00      | 40.00      |  6769100   |\n",
       "\n"
      ],
      "text/plain": [
       "  Date       Open  High  Low   Close Adj Close Volume  \n",
       "1 12/19/2019 39.59 39.83 39.48 39.61 39.61      7048600\n",
       "2 12/20/2019 39.93 39.97 39.18 39.43 39.43     13465800\n",
       "3 12/23/2019 39.44 40.89 39.43 40.79 40.79      9911300\n",
       "4 12/24/2019 40.74 40.93 40.35 40.65 40.65      3860400\n",
       "5 12/26/2019 40.86 40.88 39.93 40.07 40.07      7629700\n",
       "6 12/27/2019 40.13 40.38 39.83 40.00 40.00      6769100"
      ]
     },
     "metadata": {},
     "output_type": "display_data"
    }
   ],
   "source": [
    "df1 <- read_csv(\"SLB.csv\")\n",
    "glimpse(df1)\n",
    "head(df1)\n",
    "tail(df1)"
   ]
  },
  {
   "cell_type": "code",
   "execution_count": 3,
   "metadata": {},
   "outputs": [
    {
     "name": "stdout",
     "output_type": "stream",
     "text": [
      "Classes 'spec_tbl_df', 'tbl_df', 'tbl' and 'data.frame':\t8569 obs. of  7 variables:\n",
      " $ Date     : chr  \"12/31/1985\" \"1/2/1986\" \"1/3/1986\" \"1/6/1986\" ...\n",
      " $ Open     : num  9.12 9.16 9 9.06 9.19 ...\n",
      " $ High     : num  9.25 9.19 9.09 9.22 9.44 ...\n",
      " $ Low      : num  9.06 8.91 8.97 9.03 9.19 ...\n",
      " $ Close    : num  9.12 9 9.06 9.16 9.41 ...\n",
      " $ Adj Close: num  1.37 1.35 1.36 1.38 1.41 ...\n",
      " $ Volume   : num  3067600 1694000 1395200 2134000 3030400 ...\n",
      " - attr(*, \"spec\")=\n",
      "  .. cols(\n",
      "  ..   Date = col_character(),\n",
      "  ..   Open = col_double(),\n",
      "  ..   High = col_double(),\n",
      "  ..   Low = col_double(),\n",
      "  ..   Close = col_double(),\n",
      "  ..   `Adj Close` = col_double(),\n",
      "  ..   Volume = col_double()\n",
      "  .. )\n"
     ]
    }
   ],
   "source": [
    "str(df1)"
   ]
  },
  {
   "cell_type": "code",
   "execution_count": 4,
   "metadata": {},
   "outputs": [
    {
     "data": {
      "text/html": [
       "<dl class=dl-horizontal>\n",
       "\t<dt>Date</dt>\n",
       "\t\t<dd>0</dd>\n",
       "\t<dt>Open</dt>\n",
       "\t\t<dd>0</dd>\n",
       "\t<dt>High</dt>\n",
       "\t\t<dd>0</dd>\n",
       "\t<dt>Low</dt>\n",
       "\t\t<dd>0</dd>\n",
       "\t<dt>Close</dt>\n",
       "\t\t<dd>0</dd>\n",
       "\t<dt>Adj Close</dt>\n",
       "\t\t<dd>0</dd>\n",
       "\t<dt>Volume</dt>\n",
       "\t\t<dd>0</dd>\n",
       "</dl>\n"
      ],
      "text/latex": [
       "\\begin{description*}\n",
       "\\item[Date] 0\n",
       "\\item[Open] 0\n",
       "\\item[High] 0\n",
       "\\item[Low] 0\n",
       "\\item[Close] 0\n",
       "\\item[Adj Close] 0\n",
       "\\item[Volume] 0\n",
       "\\end{description*}\n"
      ],
      "text/markdown": [
       "Date\n",
       ":   0Open\n",
       ":   0High\n",
       ":   0Low\n",
       ":   0Close\n",
       ":   0Adj Close\n",
       ":   0Volume\n",
       ":   0\n",
       "\n"
      ],
      "text/plain": [
       "     Date      Open      High       Low     Close Adj Close    Volume \n",
       "        0         0         0         0         0         0         0 "
      ]
     },
     "metadata": {},
     "output_type": "display_data"
    }
   ],
   "source": [
    "colSums(is.na(df1)) # checking missing values"
   ]
  },
  {
   "cell_type": "code",
   "execution_count": 5,
   "metadata": {},
   "outputs": [
    {
     "data": {
      "image/png": "[encoded data removed]",
      "text/plain": [
       "plot without title"
      ]
     },
     "metadata": {},
     "output_type": "display_data"
    }
   ],
   "source": [
    "df1 = ts(df1$Open, start= c(1986,1), end = c(2019,12), frequency = 12)\n",
    "xyplot(df1, ylab = \"Price (US $)\", main = \"Time series plot for Schlumberger price\")"
   ]
  },
  {
   "cell_type": "markdown",
   "metadata": {},
   "source": [
    "### Autocorrelation Function (ACF)\n",
    "#### Identify if correlation at different time lags goes to 0\n",
    "The stationary = Guassian noise and one with a trend = cummulative sum of Gaussian noise We will check each for characteristics of stationarity by looking at the autocorrelation functions of each signal. We would expect the ACF to go to 0 for each time lag (τ) for a stationary signal, because we expect no dependence with time."
   ]
  },
  {
   "cell_type": "code",
   "execution_count": 6,
   "metadata": {},
   "outputs": [
    {
     "name": "stderr",
     "output_type": "stream",
     "text": [
      "Warning message:\n",
      "\"package 'pastecs' was built under R version 3.6.2\"\n",
      "Attaching package: 'pastecs'\n",
      "\n",
      "The following object is masked from 'package:tidyr':\n",
      "\n",
      "    extract\n",
      "\n",
      "The following objects are masked from 'package:dplyr':\n",
      "\n",
      "    first, last\n",
      "\n"
     ]
    }
   ],
   "source": [
    "library(pastecs)"
   ]
  },
  {
   "cell_type": "code",
   "execution_count": 7,
   "metadata": {},
   "outputs": [
    {
     "data": {
      "image/png": "[encoded data removed]",
      "text/plain": [
       "Plot with title \"Normal Q-Q Plot\""
      ]
     },
     "metadata": {},
     "output_type": "display_data"
    }
   ],
   "source": [
    "par(mfrow=c(2,1))        # set up the graphics \n",
    "hist(df1, prob=TRUE, 12)   # histogram    \n",
    "lines(density(df1))     # density for details \n",
    "qqnorm(df1)             # normal Q-Q plot  \n",
    "qqline(df1)"
   ]
  },
  {
   "cell_type": "code",
   "execution_count": 8,
   "metadata": {},
   "outputs": [
    {
     "data": {
      "text/html": [
       "<table>\n",
       "<thead><tr><th></th><th scope=col>x</th></tr></thead>\n",
       "<tbody>\n",
       "\t<tr><th scope=row>nbr.val</th><td> 4.080000e+02</td></tr>\n",
       "\t<tr><th scope=row>nbr.null</th><td> 0.000000e+00</td></tr>\n",
       "\t<tr><th scope=row>nbr.na</th><td> 0.000000e+00</td></tr>\n",
       "\t<tr><th scope=row>min</th><td> 7.000000e+00</td></tr>\n",
       "\t<tr><th scope=row>max</th><td> 1.271875e+01</td></tr>\n",
       "\t<tr><th scope=row>range</th><td> 5.718750e+00</td></tr>\n",
       "\t<tr><th scope=row>sum</th><td> 3.653438e+03</td></tr>\n",
       "\t<tr><th scope=row>median</th><td> 8.312500e+00</td></tr>\n",
       "\t<tr><th scope=row>mean</th><td> 8.954504e+00</td></tr>\n",
       "\t<tr><th scope=row>SE.mean</th><td> 7.068832e-02</td></tr>\n",
       "\t<tr><th scope=row>CI.mean.0.95</th><td> 1.389598e-01</td></tr>\n",
       "\t<tr><th scope=row>var</th><td> 2.038710e+00</td></tr>\n",
       "\t<tr><th scope=row>std.dev</th><td> 1.427834e+00</td></tr>\n",
       "\t<tr><th scope=row>coef.var</th><td> 1.594543e-01</td></tr>\n",
       "\t<tr><th scope=row>skewness</th><td> 9.928198e-01</td></tr>\n",
       "\t<tr><th scope=row>skew.2SE</th><td> 4.108498e+00</td></tr>\n",
       "\t<tr><th scope=row>kurtosis</th><td>-1.702049e-01</td></tr>\n",
       "\t<tr><th scope=row>kurt.2SE</th><td>-3.530192e-01</td></tr>\n",
       "\t<tr><th scope=row>normtest.W</th><td> 8.655703e-01</td></tr>\n",
       "\t<tr><th scope=row>normtest.p</th><td> 2.745696e-18</td></tr>\n",
       "</tbody>\n",
       "</table>\n"
      ],
      "text/latex": [
       "\\begin{tabular}{r|l}\n",
       "  & x\\\\\n",
       "\\hline\n",
       "\tnbr.val &  4.080000e+02\\\\\n",
       "\tnbr.null &  0.000000e+00\\\\\n",
       "\tnbr.na &  0.000000e+00\\\\\n",
       "\tmin &  7.000000e+00\\\\\n",
       "\tmax &  1.271875e+01\\\\\n",
       "\trange &  5.718750e+00\\\\\n",
       "\tsum &  3.653438e+03\\\\\n",
       "\tmedian &  8.312500e+00\\\\\n",
       "\tmean &  8.954504e+00\\\\\n",
       "\tSE.mean &  7.068832e-02\\\\\n",
       "\tCI.mean.0.95 &  1.389598e-01\\\\\n",
       "\tvar &  2.038710e+00\\\\\n",
       "\tstd.dev &  1.427834e+00\\\\\n",
       "\tcoef.var &  1.594543e-01\\\\\n",
       "\tskewness &  9.928198e-01\\\\\n",
       "\tskew.2SE &  4.108498e+00\\\\\n",
       "\tkurtosis & -1.702049e-01\\\\\n",
       "\tkurt.2SE & -3.530192e-01\\\\\n",
       "\tnormtest.W &  8.655703e-01\\\\\n",
       "\tnormtest.p &  2.745696e-18\\\\\n",
       "\\end{tabular}\n"
      ],
      "text/markdown": [
       "\n",
       "| <!--/--> | x |\n",
       "|---|---|\n",
       "| nbr.val |  4.080000e+02 |\n",
       "| nbr.null |  0.000000e+00 |\n",
       "| nbr.na |  0.000000e+00 |\n",
       "| min |  7.000000e+00 |\n",
       "| max |  1.271875e+01 |\n",
       "| range |  5.718750e+00 |\n",
       "| sum |  3.653438e+03 |\n",
       "| median |  8.312500e+00 |\n",
       "| mean |  8.954504e+00 |\n",
       "| SE.mean |  7.068832e-02 |\n",
       "| CI.mean.0.95 |  1.389598e-01 |\n",
       "| var |  2.038710e+00 |\n",
       "| std.dev |  1.427834e+00 |\n",
       "| coef.var |  1.594543e-01 |\n",
       "| skewness |  9.928198e-01 |\n",
       "| skew.2SE |  4.108498e+00 |\n",
       "| kurtosis | -1.702049e-01 |\n",
       "| kurt.2SE | -3.530192e-01 |\n",
       "| normtest.W |  8.655703e-01 |\n",
       "| normtest.p |  2.745696e-18 |\n",
       "\n"
      ],
      "text/plain": [
       "             x            \n",
       "nbr.val       4.080000e+02\n",
       "nbr.null      0.000000e+00\n",
       "nbr.na        0.000000e+00\n",
       "min           7.000000e+00\n",
       "max           1.271875e+01\n",
       "range         5.718750e+00\n",
       "sum           3.653438e+03\n",
       "median        8.312500e+00\n",
       "mean          8.954504e+00\n",
       "SE.mean       7.068832e-02\n",
       "CI.mean.0.95  1.389598e-01\n",
       "var           2.038710e+00\n",
       "std.dev       1.427834e+00\n",
       "coef.var      1.594543e-01\n",
       "skewness      9.928198e-01\n",
       "skew.2SE      4.108498e+00\n",
       "kurtosis     -1.702049e-01\n",
       "kurt.2SE     -3.530192e-01\n",
       "normtest.W    8.655703e-01\n",
       "normtest.p    2.745696e-18"
      ]
     },
     "metadata": {},
     "output_type": "display_data"
    }
   ],
   "source": [
    "stat.desc(df1, basic=TRUE, norm=TRUE, p=0.95)"
   ]
  },
  {
   "cell_type": "markdown",
   "metadata": {},
   "source": [
    "### startionaity test"
   ]
  },
  {
   "cell_type": "code",
   "execution_count": 9,
   "metadata": {},
   "outputs": [
    {
     "name": "stderr",
     "output_type": "stream",
     "text": [
      "Warning message:\n",
      "\"package 'tseries' was built under R version 3.6.2\"Registered S3 method overwritten by 'xts':\n",
      "  method     from\n",
      "  as.zoo.xts zoo \n",
      "Registered S3 method overwritten by 'quantmod':\n",
      "  method            from\n",
      "  as.zoo.data.frame zoo \n",
      "\n",
      "Attaching package: 'lubridate'\n",
      "\n",
      "The following object is masked from 'package:base':\n",
      "\n",
      "    date\n",
      "\n",
      "\n",
      "Attaching package: 'aTSA'\n",
      "\n",
      "The following objects are masked from 'package:tseries':\n",
      "\n",
      "    adf.test, kpss.test, pp.test\n",
      "\n",
      "The following object is masked from 'package:pastecs':\n",
      "\n",
      "    trend.test\n",
      "\n",
      "The following object is masked from 'package:graphics':\n",
      "\n",
      "    identify\n",
      "\n"
     ]
    }
   ],
   "source": [
    "library(tseries)\n",
    "library(lubridate)\n",
    "library(aTSA)"
   ]
  },
  {
   "cell_type": "code",
   "execution_count": 10,
   "metadata": {},
   "outputs": [
    {
     "name": "stdout",
     "output_type": "stream",
     "text": [
      "Augmented Dickey-Fuller Test \n",
      "alternative: stationary \n",
      " \n",
      "Type 1: no drift no trend \n",
      "     lag   ADF p.value\n",
      "[1,]   0 0.843   0.887\n",
      "[2,]   1 0.886   0.899\n",
      "[3,]   2 0.937   0.906\n",
      "[4,]   3 0.924   0.904\n",
      "[5,]   4 0.864   0.893\n",
      "[6,]   5 1.024   0.917\n",
      "Type 2: with drift no trend \n",
      "     lag     ADF p.value\n",
      "[1,]   0 -0.1706   0.936\n",
      "[2,]   1 -0.0728   0.950\n",
      "[3,]   2 -0.0496   0.952\n",
      "[4,]   3 -0.0435   0.952\n",
      "[5,]   4 -0.0883   0.947\n",
      "[6,]   5  0.3066   0.978\n",
      "Type 3: with drift and trend \n",
      "     lag   ADF p.value\n",
      "[1,]   0 -2.84   0.224\n",
      "[2,]   1 -2.83   0.228\n",
      "[3,]   2 -2.72   0.272\n",
      "[4,]   3 -2.79   0.242\n",
      "[5,]   4 -2.96   0.172\n",
      "[6,]   5 -2.96   0.173\n",
      "---- \n",
      "Note: in fact, p.value = 0.01 means p.value <= 0.01 \n",
      "Phillips-Perron Unit Root Test \n",
      "alternative: stationary \n",
      " \n",
      "Type 1: no drift no trend \n",
      " lag Z_rho p.value\n",
      "   5 0.343   0.768\n",
      "----- \n",
      " Type 2: with drift no trend \n",
      " lag   Z_rho p.value\n",
      "   5 -0.0692   0.953\n",
      "----- \n",
      " Type 3: with drift and trend \n",
      " lag Z_rho p.value\n",
      "   5 -11.6   0.386\n",
      "--------------- \n",
      "Note: p-value = 0.01 means p.value <= 0.01 \n",
      "KPSS Unit Root Test \n",
      "alternative: nonstationary \n",
      " \n",
      "Type 1: no drift no trend \n",
      " lag  stat p.value\n",
      "   4 0.261     0.1\n",
      "----- \n",
      " Type 2: with drift no trend \n",
      " lag  stat p.value\n",
      "   4 0.367  0.0914\n",
      "----- \n",
      " Type 1: with drift and trend \n",
      " lag  stat p.value\n",
      "   4 0.123  0.0924\n",
      "----------- \n",
      "Note: p.value = 0.01 means p.value <= 0.01 \n",
      "    : p.value = 0.10 means p.value >= 0.10 \n"
     ]
    }
   ],
   "source": [
    "stationary.test(df1, method = \"adf\")\n",
    "stationary.test(df1, method = \"pp\") # same as pp.test(x)\n",
    "stationary.test(df1, method = \"kpss\")"
   ]
  },
  {
   "cell_type": "markdown",
   "metadata": {},
   "source": [
    "### normalization"
   ]
  },
  {
   "cell_type": "code",
   "execution_count": 13,
   "metadata": {},
   "outputs": [],
   "source": [
    "df1_stationary <- rnorm(length(df1), mean=1, sd=1) # the stationary time series using mean & std\n",
    "df1_trend <- cumsum(rnorm(length(df1), mean=1, sd=4)) + df1/100 # time series with a trend\n",
    "\n",
    "# normalize each trend & starionary\n",
    "df1_stationary <- df1_stationary / max(df1_stationary) \n",
    "df1_trend <- df1_trend / max(df1_trend)"
   ]
  },
  {
   "cell_type": "code",
   "execution_count": 14,
   "metadata": {},
   "outputs": [
    {
     "data": {
      "image/png": "[encoded data removed]",
      "text/plain": [
       "Plot with title \" \""
      ]
     },
     "metadata": {},
     "output_type": "display_data"
    }
   ],
   "source": [
    "plot.new()\n",
    "frame()\n",
    "par(mfcol=c(2,2))\n",
    "\n",
    "# the stationary signal and ACF\n",
    "plot(df1_stationary,\n",
    "     type='l', col='blue',\n",
    "     xlab = \"time (t)\",\n",
    "     ylab = \"Change in Schlumberger price index\",\n",
    "     main = \"Stationary signal\")\n",
    "acf(df1_stationary, lag.max = length(df1_stationary),\n",
    "         xlab = \"lag #\", ylab = 'ACF',main=' ')\n",
    "\n",
    "# the trend signal and ACF\n",
    "plot(df1_trend,\n",
    "     type='l',col='blue',\n",
    "     xlab = \"time (t)\",\n",
    "     ylab = \"Change in Schlumberger price index\",\n",
    "     main = \"Trend signal\")\n",
    "acf(df1_trend, lag.max = length(df1_trend),\n",
    "         xlab = \"lag #\", ylab = 'ACF', main=' ')\n"
   ]
  },
  {
   "cell_type": "code",
   "execution_count": 19,
   "metadata": {},
   "outputs": [
    {
     "name": "stdout",
     "output_type": "stream",
     "text": [
      "Augmented Dickey-Fuller Test \n",
      "alternative: stationary \n",
      " \n",
      "Type 1: no drift no trend \n",
      "     lag    ADF p.value\n",
      "[1,]   0 -11.59    0.01\n",
      "[2,]   1  -7.23    0.01\n",
      "[3,]   2  -5.44    0.01\n",
      "[4,]   3  -4.26    0.01\n",
      "[5,]   4  -3.44    0.01\n",
      "[6,]   5  -2.89    0.01\n",
      "Type 2: with drift no trend \n",
      "     lag    ADF p.value\n",
      "[1,]   0 -19.98    0.01\n",
      "[2,]   1 -14.20    0.01\n",
      "[3,]   2 -12.07    0.01\n",
      "[4,]   3 -10.33    0.01\n",
      "[5,]   4  -9.16    0.01\n",
      "[6,]   5  -7.76    0.01\n",
      "Type 3: with drift and trend \n",
      "     lag    ADF p.value\n",
      "[1,]   0 -20.08    0.01\n",
      "[2,]   1 -14.36    0.01\n",
      "[3,]   2 -12.25    0.01\n",
      "[4,]   3 -10.55    0.01\n",
      "[5,]   4  -9.39    0.01\n",
      "[6,]   5  -8.07    0.01\n",
      "---- \n",
      "Note: in fact, p.value = 0.01 means p.value <= 0.01 \n",
      "Phillips-Perron Unit Root Test \n",
      "alternative: stationary \n",
      " \n",
      "Type 1: no drift no trend \n",
      " lag Z_rho p.value\n",
      "   5  -239    0.01\n",
      "----- \n",
      " Type 2: with drift no trend \n",
      " lag Z_rho p.value\n",
      "   5  -395    0.01\n",
      "----- \n",
      " Type 3: with drift and trend \n",
      " lag Z_rho p.value\n",
      "   5  -392    0.01\n",
      "--------------- \n",
      "Note: p-value = 0.01 means p.value <= 0.01 \n",
      "KPSS Unit Root Test \n",
      "alternative: nonstationary \n",
      " \n",
      "Type 1: no drift no trend \n",
      " lag stat p.value\n",
      "   4 18.5    0.01\n",
      "----- \n",
      " Type 2: with drift no trend \n",
      " lag  stat p.value\n",
      "   4 0.292     0.1\n",
      "----- \n",
      " Type 1: with drift and trend \n",
      " lag   stat p.value\n",
      "   4 0.0466     0.1\n",
      "----------- \n",
      "Note: p.value = 0.01 means p.value <= 0.01 \n",
      "    : p.value = 0.10 means p.value >= 0.10 \n"
     ]
    }
   ],
   "source": [
    "stationary.test(df1_stationary, method = \"adf\")\n",
    "stationary.test(df1_stationary, method = \"pp\") # same as pp.test(x)\n",
    "stationary.test(df1_stationary, method = \"kpss\")"
   ]
  },
  {
   "cell_type": "markdown",
   "metadata": {},
   "source": [
    "### Decomposing Time Series\n",
    "Decomposing a time series means separating it into it’s constituent components, which are often a trend component and a random component, and if the data is seasonal, a seasonal component. Decomposing the time series involves tying to separate the time series into these individual components.\n",
    "\n",
    "Let's use simple moving average smoothing method of the time series to estimate the trend component."
   ]
  },
  {
   "cell_type": "code",
   "execution_count": 16,
   "metadata": {},
   "outputs": [],
   "source": [
    "library(\"TTR\")"
   ]
  },
  {
   "cell_type": "code",
   "execution_count": 17,
   "metadata": {},
   "outputs": [
    {
     "data": {
      "image/png": "[encoded data removed]",
      "text/plain": [
       "plot without title"
      ]
     },
     "metadata": {},
     "output_type": "display_data"
    }
   ],
   "source": [
    "df1SMA8 <- SMA(df1, n=8) # smoothing with moving average 8\n",
    "plot.ts(df1SMA8)"
   ]
  },
  {
   "cell_type": "code",
   "execution_count": 18,
   "metadata": {},
   "outputs": [
    {
     "data": {
      "image/png": "[encoded data removed]",
      "text/plain": [
       "plot without title"
      ]
     },
     "metadata": {},
     "output_type": "display_data"
    }
   ],
   "source": [
    "df1Comp <- decompose(df1SMA8) # decomposing\n",
    "plot(df1Comp, yax.flip=TRUE)"
   ]
  },
  {
   "cell_type": "markdown",
   "metadata": {},
   "source": [
    "The plot above shows the original time series (top), the estimated trend component (second from top), the estimated seasonal component (third from top), and the estimated irregular component (bottom).\n",
    "\n",
    "We see that the estimated trend component shows a small decrease from about 9 in 1997 to about 7 in 1999, followed by a steady increase from then on to about 12 in 2019.\n",
    "\n",
    "### Seasonally Adjusting"
   ]
  },
  {
   "cell_type": "code",
   "execution_count": 20,
   "metadata": {},
   "outputs": [
    {
     "data": {
      "image/png": "[encoded data removed]",
      "text/plain": [
       "plot without title"
      ]
     },
     "metadata": {},
     "output_type": "display_data"
    }
   ],
   "source": [
    "df1.Comp.seasonal <- sapply(df1Comp$seasonal, nchar)\n",
    "df1SeasonAdj <- df1 - df1.Comp.seasonal\n",
    "plot.ts(df1SeasonAdj)"
   ]
  },
  {
   "cell_type": "markdown",
   "metadata": {},
   "source": [
    "### train test split"
   ]
  },
  {
   "cell_type": "code",
   "execution_count": 20,
   "metadata": {},
   "outputs": [
    {
     "name": "stderr",
     "output_type": "stream",
     "text": [
      "Warning message:\n",
      "\"package 'TSstudio' was built under R version 3.6.2\""
     ]
    }
   ],
   "source": [
    "library('TSstudio')"
   ]
  },
  {
   "cell_type": "code",
   "execution_count": 21,
   "metadata": {},
   "outputs": [
    {
     "data": {
      "text/html": [
       "408"
      ],
      "text/latex": [
       "408"
      ],
      "text/markdown": [
       "408"
      ],
      "text/plain": [
       "[1] 408"
      ]
     },
     "metadata": {},
     "output_type": "display_data"
    },
    {
     "data": {
      "text/html": [
       "396"
      ],
      "text/latex": [
       "396"
      ],
      "text/markdown": [
       "396"
      ],
      "text/plain": [
       "[1] 396"
      ]
     },
     "metadata": {},
     "output_type": "display_data"
    },
    {
     "data": {
      "text/html": [
       "12"
      ],
      "text/latex": [
       "12"
      ],
      "text/markdown": [
       "12"
      ],
      "text/plain": [
       "[1] 12"
      ]
     },
     "metadata": {},
     "output_type": "display_data"
    }
   ],
   "source": [
    "split_df1 <- ts_split(ts.obj = df1, sample.out = 12)\n",
    "\n",
    "training <- split_df1$train\n",
    "testing <- split_df1$test\n",
    "\n",
    "length(df1)\n",
    "\n",
    "length(training)\n",
    "length(testing)"
   ]
  },
  {
   "cell_type": "code",
   "execution_count": 25,
   "metadata": {},
   "outputs": [],
   "source": [
    "library(ggplot2)\n",
    "library(ggfortify)"
   ]
  },
  {
   "cell_type": "code",
   "execution_count": 23,
   "metadata": {},
   "outputs": [
    {
     "name": "stdout",
     "output_type": "stream",
     "text": [
      "final  value -0.924496 \n",
      "converged\n"
     ]
    },
    {
     "data": {
      "text/plain": [
       "\n",
       "Call:\n",
       "StructTS(x = training, type = c(\"BSM\"), fixed = c(0.1, 0.001, NA, NA), optim.control = list(trace = TRUE))\n",
       "\n",
       "Variances:\n",
       "  level    slope     seas  epsilon  \n",
       "  0.100    0.001    0.000    0.000  "
      ]
     },
     "metadata": {},
     "output_type": "display_data"
    }
   ],
   "source": [
    "# keep parameters fixed; trace optimizer\n",
    "train <- StructTS(training, type = c(\"BSM\"),\n",
    "                      fixed = c(0.1, 0.001, NA, NA), \n",
    "                                optim.control = list(trace=TRUE))\n",
    "train"
   ]
  },
  {
   "cell_type": "code",
   "execution_count": 28,
   "metadata": {},
   "outputs": [
    {
     "name": "stderr",
     "output_type": "stream",
     "text": [
      "Warning message:\n",
      "\"package 'forecast' was built under R version 3.6.2\"Registered S3 methods overwritten by 'forecast':\n",
      "  method                 from     \n",
      "  autoplot.Arima         ggfortify\n",
      "  autoplot.acf           ggfortify\n",
      "  autoplot.ar            ggfortify\n",
      "  autoplot.bats          ggfortify\n",
      "  autoplot.decomposed.ts ggfortify\n",
      "  autoplot.ets           ggfortify\n",
      "  autoplot.forecast      ggfortify\n",
      "  autoplot.stl           ggfortify\n",
      "  autoplot.ts            ggfortify\n",
      "  fitted.ar              ggfortify\n",
      "  fitted.fracdiff        fracdiff \n",
      "  fortify.ts             ggfortify\n",
      "  residuals.ar           ggfortify\n",
      "  residuals.fracdiff     fracdiff \n",
      "\n",
      "Attaching package: 'forecast'\n",
      "\n",
      "The following object is masked from 'package:aTSA':\n",
      "\n",
      "    forecast\n",
      "\n"
     ]
    }
   ],
   "source": [
    "library(forecast)"
   ]
  },
  {
   "cell_type": "code",
   "execution_count": 33,
   "metadata": {},
   "outputs": [
    {
     "name": "stderr",
     "output_type": "stream",
     "text": [
      "For a multivariate timeseries, specify a seriesname for each timeseries. Defaulting to column names.\n"
     ]
    },
    {
     "data": {
      "image/png": "[encoded data removed]",
      "text/plain": [
       "plot without title"
      ]
     },
     "metadata": {},
     "output_type": "display_data"
    }
   ],
   "source": [
    "autoplot(training, series = 'Training data') +\n",
    "autolayer(fitted(train, h=12),\n",
    "series = '12 step fitted values')"
   ]
  },
  {
   "cell_type": "code",
   "execution_count": 34,
   "metadata": {},
   "outputs": [
    {
     "name": "stdout",
     "output_type": "stream",
     "text": [
      "Series: training \n",
      "Call:   CVar(y = training, k = 5, lambda = 0.5)\n",
      "\n",
      "5-fold cross-validation\n",
      "                   Mean          SD\n",
      "ME        -0.0001652652 0.021484037\n",
      "RMSE       0.1821226594 0.009918425\n",
      "MAE        0.1354931756 0.007872120\n",
      "MPE       -0.0090786278 0.242645033\n",
      "MAPE       1.5236843323 0.090078722\n",
      "ACF1       0.0194575105 0.135199729\n",
      "Theil's U  1.0807699014 0.117821689\n",
      "\n",
      "p-value of Ljung-Box test of residuals is  0.1778492 \n",
      "if this value is significant (<0.05),\n",
      "the result of the cross-validation should not be used\n",
      "as the model is underfitting the data.\n"
     ]
    }
   ],
   "source": [
    "modelCV <- CVar(training, k=5, lambda = 0.5)\n",
    "print(modelCV)"
   ]
  },
  {
   "cell_type": "code",
   "execution_count": 35,
   "metadata": {
    "scrolled": true
   },
   "outputs": [
    {
     "name": "stderr",
     "output_type": "stream",
     "text": [
      "Warning message in modeldf.default(object):\n",
      "\"Could not find appropriate degrees of freedom for this model.\""
     ]
    },
    {
     "data": {
      "image/png": "[encoded data removed]",
      "text/plain": [
       "plot without title"
      ]
     },
     "metadata": {},
     "output_type": "display_data"
    }
   ],
   "source": [
    "checkresiduals(train)"
   ]
  },
  {
   "cell_type": "markdown",
   "metadata": {},
   "source": [
    "### Kalman filter"
   ]
  },
  {
   "cell_type": "code",
   "execution_count": 39,
   "metadata": {},
   "outputs": [
    {
     "data": {
      "image/png": "[encoded data removed]",
      "text/plain": [
       "plot without title"
      ]
     },
     "metadata": {},
     "output_type": "display_data"
    }
   ],
   "source": [
    "sm <- tsSmooth(train)\n",
    "plot(df1)\n",
    "lines(sm[,1],col='blue')\n",
    "lines(fitted(train)[,1],col='red')\n",
    "\n",
    "# Seasonally adjusted data\n",
    "training.sa <- df1-sm[, 1]\n",
    "lines(training.sa, col='black')\n",
    "legend('topleft',col=c('blue','red', 'black'),lty=1, \n",
    "       legend=c('Filtered level','Smoothed level'))"
   ]
  },
  {
   "cell_type": "code",
   "execution_count": 43,
   "metadata": {},
   "outputs": [
    {
     "data": {
      "image/png": "[encoded data removed]",
      "text/plain": [
       "plot without title"
      ]
     },
     "metadata": {},
     "output_type": "display_data"
    }
   ],
   "source": [
    "x <- training\n",
    "miss <- sample(1:length(x), 12)\n",
    "x[miss] <- NA\n",
    "estim <- sm[,1]+sm[,2]\n",
    "plot(x, ylim=range(df1))\n",
    "points(time(x)[miss], estim[miss],\n",
    "col='red', pch=1)\n",
    "points(time(x)[miss], df1[miss],\n",
    "col='blue', pch=1)\n",
    "legend(\"topleft\", pch=1, col=c(2,1),\n",
    " legend=c(\"Estimate\",\"Actual\"))"
   ]
  },
  {
   "cell_type": "code",
   "execution_count": 44,
   "metadata": {},
   "outputs": [
    {
     "data": {
      "image/png": "[encoded data removed]",
      "text/plain": [
       "plot without title"
      ]
     },
     "metadata": {},
     "output_type": "display_data"
    }
   ],
   "source": [
    "plot(sm, main = \"\")\n",
    "mtext(text = \"decomposition of the basic structural\", \n",
    "      side = 3, adj = 0, line = 1)"
   ]
  },
  {
   "cell_type": "markdown",
   "metadata": {},
   "source": [
    "## Prediction"
   ]
  },
  {
   "cell_type": "code",
   "execution_count": 46,
   "metadata": {},
   "outputs": [
    {
     "data": {
      "image/png": "[encoded data removed]",
      "text/plain": [
       "plot without title"
      ]
     },
     "metadata": {},
     "output_type": "display_data"
    }
   ],
   "source": [
    "sm %>%\n",
    " forecast(h=12) %>%\n",
    " autoplot() + autolayer(testing)"
   ]
  },
  {
   "cell_type": "markdown",
   "metadata": {},
   "source": [
    "## Dynamic linear models (dlm) with Kalman filter"
   ]
  },
  {
   "cell_type": "code",
   "execution_count": 48,
   "metadata": {},
   "outputs": [
    {
     "name": "stderr",
     "output_type": "stream",
     "text": [
      "also installing the dependency 'TH.data'\n",
      "\n"
     ]
    },
    {
     "name": "stdout",
     "output_type": "stream",
     "text": [
      "package 'TH.data' successfully unpacked and MD5 sums checked\n",
      "package 'multcomp' successfully unpacked and MD5 sums checked\n",
      "\n",
      "The downloaded binary packages are in\n",
      "\tC:\\Users\\Sarit\\AppData\\Local\\Temp\\RtmpiUry3s\\downloaded_packages\n"
     ]
    },
    {
     "name": "stderr",
     "output_type": "stream",
     "text": [
      "Warning message:\n",
      "\"package 'multcomp' was built under R version 3.6.2\"Loading required package: mvtnorm\n",
      "Loading required package: survival\n",
      "Loading required package: TH.data\n",
      "Warning message:\n",
      "\"package 'TH.data' was built under R version 3.6.2\"Loading required package: MASS\n",
      "\n",
      "Attaching package: 'MASS'\n",
      "\n",
      "The following object is masked from 'package:dplyr':\n",
      "\n",
      "    select\n",
      "\n",
      "\n",
      "Attaching package: 'TH.data'\n",
      "\n",
      "The following object is masked from 'package:MASS':\n",
      "\n",
      "    geyser\n",
      "\n"
     ]
    }
   ],
   "source": [
    "install.packages('multcomp')\n",
    "library(multcomp)"
   ]
  },
  {
   "cell_type": "code",
   "execution_count": 63,
   "metadata": {},
   "outputs": [
    {
     "name": "stdout",
     "output_type": "stream",
     "text": [
      "[1] \"converge\"\n"
     ]
    }
   ],
   "source": [
    "# forecasting using dlm model\n",
    "\n",
    "model <- function(p) {\n",
    "    return(\n",
    "      dlmModPoly(2, dV=p[1], dW=p[2:3]) +\n",
    "      dlmModSeas(12, dV=p[4])\n",
    "    )\n",
    "}\n",
    "\n",
    "# estimating parameters\n",
    "mle <- dlmMLE(training, parm = c(0.1, 0.001, 1, 1), build = model)\n",
    "if (mle$convergence == 0) print('converge') else print('did not converge')"
   ]
  },
  {
   "cell_type": "code",
   "execution_count": 64,
   "metadata": {},
   "outputs": [
    {
     "name": "stdout",
     "output_type": "stream",
     "text": [
      "function (p)  \n",
      " - attr(*, \"srcref\")= 'srcref' int [1:8] 3 10 8 1 10 1 3 8\n",
      "  ..- attr(*, \"srcfile\")=Classes 'srcfilecopy', 'srcfile' <environment: 0x0000000054dd1c88> \n"
     ]
    }
   ],
   "source": [
    "str(model)"
   ]
  },
  {
   "cell_type": "code",
   "execution_count": 68,
   "metadata": {},
   "outputs": [
    {
     "data": {
      "text/html": [
       "<ol class=list-inline>\n",
       "\t<li>-0.457867983229491</li>\n",
       "\t<li>0.015649638776105</li>\n",
       "\t<li>-5.91429567389396e-05</li>\n",
       "\t<li>0.442132016780263</li>\n",
       "</ol>\n"
      ],
      "text/latex": [
       "\\begin{enumerate*}\n",
       "\\item -0.457867983229491\n",
       "\\item 0.015649638776105\n",
       "\\item -5.91429567389396e-05\n",
       "\\item 0.442132016780263\n",
       "\\end{enumerate*}\n"
      ],
      "text/markdown": [
       "1. -0.457867983229491\n",
       "2. 0.015649638776105\n",
       "3. -5.91429567389396e-05\n",
       "4. 0.442132016780263\n",
       "\n",
       "\n"
      ],
      "text/plain": [
       "[1] -4.578680e-01  1.564964e-02 -5.914296e-05  4.421320e-01"
      ]
     },
     "metadata": {},
     "output_type": "display_data"
    }
   ],
   "source": [
    "mle$par"
   ]
  },
  {
   "cell_type": "code",
   "execution_count": 66,
   "metadata": {},
   "outputs": [],
   "source": [
    "modelfit = model(mle$par) # fitting the dlm model"
   ]
  },
  {
   "cell_type": "code",
   "execution_count": 67,
   "metadata": {},
   "outputs": [],
   "source": [
    "# applying kalman filter\n",
    "modelfilter <- dlmFilter(training, modelfit)"
   ]
  },
  {
   "cell_type": "code",
   "execution_count": 69,
   "metadata": {},
   "outputs": [],
   "source": [
    "# applying kalman smoother\n",
    "modelsmoothed <- dlmSmooth(training, modelfit)"
   ]
  },
  {
   "cell_type": "code",
   "execution_count": 71,
   "metadata": {},
   "outputs": [
    {
     "data": {
      "image/png": "[encoded data removed]",
      "text/plain": [
       "plot without title"
      ]
     },
     "metadata": {},
     "output_type": "display_data"
    }
   ],
   "source": [
    "n <- 1*12\n",
    "forecast <- dlmForecast(modelfilter, nAhead=n)\n",
    " \n",
    "x <- index(training)\n",
    "xf <- seq(max(x), max(x)+n/12, 1/12)\n",
    "aa <- forecast$a[, -1] * (-1)\n",
    "aa <- cbind(forecast$a[, 1], aa)\n",
    "a <- drop(forecast$a%*%t(FF(modelfit)))\n",
    "a <- c(tail(training, 1), a)\n",
    "df <- rbind(\n",
    "  data.frame(x=x, y=as.numeric(training), series=\"original\"),\n",
    "  data.frame(x=x, y=apply(modelfilter$m[-1, 1:2], 1, sum), series=\"filtered\"),\n",
    "  data.frame(x=x, y=apply(modelsmoothed$s[-1, 1:2], 1, sum), series=\"smoothed\"),\n",
    "  data.frame(x=xf, y=a, series=\"forecast\")\n",
    ")\n",
    "dlm <- ggplot(subset(df, x>2000), aes(x=x, y=y, colour=series)) + geom_line()\n",
    "dlm"
   ]
  },
  {
   "cell_type": "code",
   "execution_count": 72,
   "metadata": {},
   "outputs": [
    {
     "data": {
      "image/png": "[encoded data removed]",
      "text/plain": [
       "Plot with title \"Forecasts from ARIMA(0,1,0)\""
      ]
     },
     "metadata": {},
     "output_type": "display_data"
    }
   ],
   "source": [
    "# forecasting using arima\n",
    "arima <- auto.arima(training)\n",
    "arima.forecast <- forecast(arima, h = 1*12)\n",
    "plot(arima.forecast)"
   ]
  }
 ],
 "metadata": {
  "kernelspec": {
   "display_name": "R",
   "language": "R",
   "name": "ir"
  },
  "language_info": {
   "codemirror_mode": "r",
   "file_extension": ".r",
   "mimetype": "text/x-r-source",
   "name": "R",
   "pygments_lexer": "r",
   "version": "3.6.1"
  }
 },
 "nbformat": 4,
 "nbformat_minor": 2
}
